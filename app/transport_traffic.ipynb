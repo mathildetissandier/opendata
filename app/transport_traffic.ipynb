{
 "cells": [
  {
   "cell_type": "code",
   "execution_count": 1,
   "metadata": {},
   "outputs": [],
   "source": [
    "import geoplot\n",
    "import geoplot.crs as gcrs\n",
    "import pandas as pd\n",
    "import folium\n",
    "import geopandas as gpd\n",
    "from ipywidgets import interact\n",
    "import numpy as np\n",
    "from folium import CircleMarker\n",
    "from folium.plugins import HeatMap\n",
    "import branca"
   ]
  },
  {
   "cell_type": "code",
   "execution_count": 3,
   "metadata": {},
   "outputs": [
    {
     "data": {
      "application/vnd.jupyter.widget-view+json": {
       "model_id": "2542d189faa4447aa33ffa74a098a5ea",
       "version_major": 2,
       "version_minor": 0
      },
      "text/plain": [
       "interactive(children=(Dropdown(description='year', options=('1993', '1994', '1995', '1996', '1997', '1998', '1…"
      ]
     },
     "metadata": {},
     "output_type": "display_data"
    }
   ],
   "source": [
    "# Charger les données CSV\n",
    "df = pd.read_csv('data/transport_traffic_voiture.csv', sep=';')\n",
    "\n",
    "# Assurer que les années sont en chaînes de caractères\n",
    "years = [str(year) for year in range(1993, 2024)]  # Génère la liste des années comme chaînes de caractères\n",
    "df.columns = ['LA Code', 'Local Authority'] + years  # S'assurer que les colonnes sont nommées correctement\n",
    "\n",
    "# Charger le fichier GeoJSON des boroughs de Londres\n",
    "gdf = gpd.read_file('data/london_boroughs.geojson')\n",
    "\n",
    "# Fonction pour générer une échelle de couleurs plus détaillée\n",
    "def generate_color_scale(values):\n",
    "    # Calculer la plage des valeurs\n",
    "    min_value = np.min(values)\n",
    "    max_value = np.max(values)\n",
    "    \n",
    "    # Créer une échelle de couleurs avec plus de nuances\n",
    "    color_scale = branca.colormap.linear.RdYlBu_09.scale(min_value, max_value)\n",
    "    color_scale = color_scale.to_step(n=20)  # Crée une échelle avec plus de nuances (20 étapes)\n",
    "    \n",
    "    return color_scale\n",
    "\n",
    "def update_map(year):\n",
    "    # Vérifier si l'année sélectionnée existe dans les colonnes\n",
    "    if str(year) not in df.columns:\n",
    "        print(f\"Année {year} introuvable dans les colonnes !\")\n",
    "        return\n",
    "    \n",
    "    # Créer une carte centrée sur Londres (réinitialisation)\n",
    "    m = folium.Map(location=[51.5074, -0.1278], zoom_start=10)\n",
    "    \n",
    "    # Récupérer toutes les valeurs de l'année sélectionnée\n",
    "    values = df[str(year)].values[2:]  # Les valeurs commencent à l'index 2, car les deux premières colonnes ne sont pas des années\n",
    "    \n",
    "    # Générer l'échelle de couleurs détaillée\n",
    "    color_scale = generate_color_scale(values)\n",
    "    \n",
    "    # Ajouter les polygones des boroughs avec les couleurs en fonction des valeurs\n",
    "    for _, row in gdf.iterrows():\n",
    "        borough_name = row['name']  # Nom du borough\n",
    "        if borough_name in df['Local Authority'].values:\n",
    "            # Extraire la géométrie du borough\n",
    "            geometry = row['geometry']\n",
    "            \n",
    "            # Trouver la valeur de l'année pour le borough\n",
    "            value = df.loc[df['Local Authority'] == borough_name, str(year)].values[0]\n",
    "            \n",
    "            # Vérifier si la valeur n'est pas manquante ou incorrecte\n",
    "            if pd.isna(value) or value < 0:\n",
    "                value = 0  # Fixer une valeur par défaut (ou choisir de l'ignorer)\n",
    "            \n",
    "            # Obtenir la couleur en fonction de la valeur\n",
    "            color = color_scale(value)  # Utiliser l'échelle de couleurs dynamique pour obtenir la couleur\n",
    "            \n",
    "            # Créer le texte du popup avec les informations à afficher\n",
    "            popup_text = f\"<b>{borough_name}</b><br>Valeur en {year}: {value}\"\n",
    "            \n",
    "            # Ajouter le polygone du borough à la carte avec la couleur correspondante\n",
    "            folium.GeoJson(\n",
    "                geometry,\n",
    "                style_function=lambda feature, color=color: {\n",
    "                    'fillColor': color,  # Remplissage du polygone avec la couleur associée à la valeur\n",
    "                    'color': 'darkgrey',  # Bordure des polygones\n",
    "                    'weight': 0.3,  # Épaisseur de la bordure\n",
    "                    'fillOpacity': 0.6  # Opacité du remplissage\n",
    "                },\n",
    "                tooltip=popup_text  # Afficher les informations au survol\n",
    "            ).add_to(m)\n",
    "    \n",
    "    # Ajouter la légende de l'échelle de couleur\n",
    "    color_scale.caption = \"Valeurs par borough (échelle dynamique)\"\n",
    "    color_scale.add_to(m)\n",
    "    \n",
    "    # Afficher la carte\n",
    "    return m\n",
    "\n",
    "# Créer un dropdown pour sélectionner l'année\n",
    "interact(update_map, year=[str(year) for year in range(1993, 2024)]);  # Plage d'années entre 1993 et 2023"
   ]
  },
  {
   "cell_type": "code",
   "execution_count": 36,
   "metadata": {},
   "outputs": [],
   "source": [
    "# Sauvegarder la carte pour une année spécifique (par exemple, 2023)\n",
    "m = update_map(1993)\n",
    "m.save('static/traffic_map_1993.html')"
   ]
  },
  {
   "cell_type": "code",
   "execution_count": 4,
   "metadata": {},
   "outputs": [
    {
     "data": {
      "application/vnd.jupyter.widget-view+json": {
       "model_id": "276633cbb707465aa7d8dfcbc3a8577b",
       "version_major": 2,
       "version_minor": 0
      },
      "text/plain": [
       "interactive(children=(IntSlider(value=2023, description='year', max=2023, min=1993), Output()), _dom_classes=(…"
      ]
     },
     "metadata": {},
     "output_type": "display_data"
    }
   ],
   "source": [
    "from ipywidgets import interact, IntSlider, fixed\n",
    "import folium\n",
    "import pandas as pd\n",
    "import geopandas as gpd\n",
    "import branca\n",
    "from sklearn.cluster import KMeans\n",
    "from sklearn.preprocessing import StandardScaler\n",
    "\n",
    "# Ta fonction pour le clustering et l'update de la carte ici\n",
    "def cluster_boroughs(df, year, n_clusters=3):\n",
    "    year = str(year)\n",
    "    \n",
    "    if year not in df.columns:\n",
    "        print(f\"L'année {year} est introuvable dans les colonnes!\")\n",
    "        return df\n",
    "    \n",
    "    borough_values = df[year].values\n",
    "    borough_values_reshaped = borough_values.reshape(-1, 1)\n",
    "    \n",
    "    kmeans = KMeans(n_clusters=n_clusters, random_state=42)\n",
    "    kmeans.fit(borough_values_reshaped)\n",
    "    \n",
    "    df['Cluster'] = kmeans.labels_\n",
    "    \n",
    "    return df, kmeans\n",
    "\n",
    "def update_map_with_clusters(df, gdf, year):\n",
    "    df_clustered, _ = cluster_boroughs(df, year, n_clusters=3)\n",
    "    \n",
    "    m = folium.Map(location=[51.5074, -0.1278], zoom_start=10)\n",
    "    \n",
    "    color_scale = branca.colormap.linear.Paired_12.scale(0, 2)\n",
    "    \n",
    "    for _, row in gdf.iterrows():\n",
    "        borough_name = row['name']\n",
    "        if borough_name in df['Local Authority'].values:\n",
    "            geometry = row['geometry']\n",
    "            cluster_label = df.loc[df['Local Authority'] == borough_name, 'Cluster'].values[0]\n",
    "            color = color_scale(cluster_label)\n",
    "            \n",
    "            popup_text = f\"<b>{borough_name}</b><br>Cluster: {cluster_label}\"\n",
    "            \n",
    "            folium.GeoJson(\n",
    "                geometry,\n",
    "                style_function=lambda feature, color=color: {\n",
    "                    'fillColor': color,\n",
    "                    'color': 'darkgrey',\n",
    "                    'weight': 0.3,\n",
    "                    'fillOpacity': 0.6\n",
    "                },\n",
    "                tooltip=popup_text\n",
    "            ).add_to(m)\n",
    "    \n",
    "    color_scale.caption = \"Clusters des boroughs\"\n",
    "    color_scale.add_to(m)\n",
    "    \n",
    "    return m\n",
    "\n",
    "# Exemple de DataFrame et GeoDataFrame pour tests\n",
    "df = pd.read_csv('data/transport_traffic_voiture.csv', sep=';')\n",
    "gdf = gpd.read_file('data/london_boroughs.geojson')\n",
    "\n",
    "# Créer un widget interactif pour l'année\n",
    "interact(update_map_with_clusters, df=fixed(df), gdf=fixed(gdf), year=IntSlider(min=1993, max=2023, step=1, value=2023));\n"
   ]
  },
  {
   "cell_type": "code",
   "execution_count": null,
   "metadata": {},
   "outputs": [
    {
     "data": {
      "application/vnd.jupyter.widget-view+json": {
       "model_id": "7499490347444b42aa248272ca250254",
       "version_major": 2,
       "version_minor": 0
      },
      "text/plain": [
       "interactive(children=(IntSlider(value=2023, description='year', max=2023, min=1993), Output()), _dom_classes=(…"
      ]
     },
     "metadata": {},
     "output_type": "display_data"
    }
   ],
   "source": [
    "import os\n",
    "\n",
    "def update_map_with_clusters(df, gdf, year):\n",
    "    df_clustered, _ = cluster_boroughs(df, year, n_clusters=3)\n",
    "\n",
    "    m = folium.Map(location=[51.5074, -0.1278], zoom_start=10)\n",
    "\n",
    "    color_scale = branca.colormap.linear.Paired_12.scale(0, 2)\n",
    "\n",
    "    for _, row in gdf.iterrows():\n",
    "        borough_name = row['name']\n",
    "        if borough_name in df['Local Authority'].values:\n",
    "            geometry = row['geometry']\n",
    "            cluster_label = df.loc[df['Local Authority'] == borough_name, 'Cluster'].values[0]\n",
    "            color = color_scale(cluster_label)\n",
    "\n",
    "            popup_text = f\"<b>{borough_name}</b><br>Cluster: {cluster_label}\"\n",
    "\n",
    "            folium.GeoJson(\n",
    "                geometry,\n",
    "                style_function=lambda feature, color=color: {\n",
    "                    'fillColor': color,\n",
    "                    'color': 'darkgrey',\n",
    "                    'weight': 0.3,\n",
    "                    'fillOpacity': 0.6\n",
    "                },\n",
    "                tooltip=popup_text\n",
    "            ).add_to(m)\n",
    "\n",
    "    color_scale.caption = \"Clusters des boroughs\"\n",
    "    color_scale.add_to(m)\n",
    "\n",
    "    # Sauvegarder la carte dans un fichier HTML\n",
    "    output_dir = 'static/traffic_pred'\n",
    "    os.makedirs(output_dir, exist_ok=True)\n",
    "    map_file_path = os.path.join(output_dir, f'traffic_map_pred_{year}.html')\n",
    "    m.save(map_file_path)\n",
    "\n",
    "    return m\n",
    "\n",
    "# Exemple de DataFrame et GeoDataFrame pour tests\n",
    "df = pd.read_csv('data/transport_traffic_voiture.csv', sep=';')\n",
    "gdf = gpd.read_file('data/london_boroughs.geojson')\n",
    "\n",
    "# Créer un widget interactif pour l'année\n",
    "interact(update_map_with_clusters, df=fixed(df), gdf=fixed(gdf), year=IntSlider(min=1993, max=2023, step=1, value=2023));"
   ]
  }
 ],
 "metadata": {
  "kernelspec": {
   "display_name": "Python 3",
   "language": "python",
   "name": "python3"
  },
  "language_info": {
   "codemirror_mode": {
    "name": "ipython",
    "version": 3
   },
   "file_extension": ".py",
   "mimetype": "text/x-python",
   "name": "python",
   "nbconvert_exporter": "python",
   "pygments_lexer": "ipython3",
   "version": "3.11.4"
  }
 },
 "nbformat": 4,
 "nbformat_minor": 2
}
